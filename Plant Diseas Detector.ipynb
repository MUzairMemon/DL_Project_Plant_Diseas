{
 "cells": [
  {
   "cell_type": "markdown",
   "metadata": {
    "execution": {
     "iopub.execute_input": "2023-01-01T11:09:24.160918Z",
     "iopub.status.busy": "2023-01-01T11:09:24.160498Z",
     "iopub.status.idle": "2023-01-01T11:09:24.170837Z",
     "shell.execute_reply": "2023-01-01T11:09:24.169255Z",
     "shell.execute_reply.started": "2023-01-01T11:09:24.160884Z"
    }
   },
   "source": [
    "<img src=\"https://drive.google.com/uc?export=view&id=1-G_iQyFJElMOz2ICxr82FdivRcEXWXDj\" height=\"100\" align=\"center\">\n",
    "\n",
    "<h1 align=\"left\">\n",
    "RIME-21 SMME NUST\n",
    "</h1>\n",
    "\n",
    "*   Muhammad Faiq Malik    --------    364542\n",
    "*   Hussain Nasir Khan     --------    363654\n",
    "*   Muhammad Uzair Memon   --------    364045"
   ]
  },
  {
   "cell_type": "markdown",
   "metadata": {
    "execution": {
     "iopub.execute_input": "2023-01-01T11:14:39.853319Z",
     "iopub.status.busy": "2023-01-01T11:14:39.852575Z"
    }
   },
   "source": [
    "<h1 align=\"center\">\n",
    "    Deep Learning Project Part O2\n",
    "</h1>\n",
    "<h1 align=\"center\">\n",
    "    Covid19 Detection  \n",
    "</h1>"
   ]
  },
  {
   "cell_type": "markdown",
   "metadata": {},
   "source": [
    "# Project Description:\n",
    "\n",
    "In this project, I am using the subset of two datasets. The first dataset has chest CT image repository of 1000+ patients\n",
    "with confirmed COVID‑19 diagnosis. All the images are stored in DICOM standard. From this dataset, I am using the data of 50 subjects. The second dataset consists of chest CT scans with COVID-19 related findings, as well as without such findings. From this dataset, I am using the data of 50 subjects that are without COVID-19 related findings. All the images are stored in NIfTI standard. The datasets are:\n",
    "\n",
    "1. COVID19‑CT‑dataset: an open‑access chest CT image repository of 1000+ patients with confirmed COVID‑19 diagnosis\n",
    "2. MosMedData: Chest CT Scans with COVID-19 Related Findings Dataset\n"
   ]
  },
  {
   "cell_type": "markdown",
   "metadata": {},
   "source": [
    "## Table of Content\n",
    "\n",
    "- [1 - Packages](#1)\n",
    "- [2 - Load, Process, and Split the Data](#2)\n",
    "- [3 - Model Details](#3)\n",
    "    - [3.1 - Model Summary and Visualization](#3-1)\n",
    "- [4 - Train the Model](#4)\n",
    "    - [4.1 - Plotting Model Accuracies per epoch](#4-1)\n",
    "    - [4.2 - Model Testing](#4-2)\n",
    "    - [4.3 - Model Evaluation Metrics](#4-3)\n",
    "    - [4.4 - Random image testing](#4-4)"
   ]
  },
  {
   "cell_type": "markdown",
   "metadata": {},
   "source": [
    "<a name='1'></a>\n",
    "## 1 - Packages\n",
    "To import all the libraries required:"
   ]
  },
  {
   "cell_type": "code",
   "execution_count": 4,
   "metadata": {
    "execution": {
     "iopub.execute_input": "2023-01-04T12:21:10.173276Z",
     "iopub.status.busy": "2023-01-04T12:21:10.172823Z",
     "iopub.status.idle": "2023-01-04T12:21:22.995671Z",
     "shell.execute_reply": "2023-01-04T12:21:22.994278Z",
     "shell.execute_reply.started": "2023-01-04T12:21:10.173234Z"
    }
   },
   "outputs": [
    {
     "name": "stdout",
     "output_type": "stream",
     "text": [
      "Collecting visualkeras\n",
      "  Downloading visualkeras-0.0.2-py3-none-any.whl (12 kB)\n",
      "Requirement already satisfied: numpy>=1.18.1 in /opt/conda/lib/python3.7/site-packages (from visualkeras) (1.21.6)\n",
      "Requirement already satisfied: pillow>=6.2.0 in /opt/conda/lib/python3.7/site-packages (from visualkeras) (9.1.1)\n",
      "Collecting aggdraw>=1.3.11\n",
      "  Downloading aggdraw-1.3.15-cp37-cp37m-manylinux_2_17_x86_64.manylinux2014_x86_64.whl (989 kB)\n",
      "\u001b[2K     \u001b[90m━━━━━━━━━━━━━━━━━━━━━━━━━━━━━━━━━━━━━━━\u001b[0m \u001b[32m989.9/989.9 kB\u001b[0m \u001b[31m8.0 MB/s\u001b[0m eta \u001b[36m0:00:00\u001b[0ma \u001b[36m0:00:01\u001b[0m\n",
      "\u001b[?25hInstalling collected packages: aggdraw, visualkeras\n",
      "Successfully installed aggdraw-1.3.15 visualkeras-0.0.2\n",
      "\u001b[33mWARNING: Running pip as the 'root' user can result in broken permissions and conflicting behaviour with the system package manager. It is recommended to use a virtual environment instead: https://pip.pypa.io/warnings/venv\u001b[0m\u001b[33m\n",
      "\u001b[0mNote: you may need to restart the kernel to use updated packages.\n"
     ]
    }
   ],
   "source": [
    "pip install visualkeras"
   ]
  },
  {
   "cell_type": "code",
   "execution_count": 5,
   "metadata": {
    "execution": {
     "iopub.execute_input": "2023-01-04T12:21:22.998780Z",
     "iopub.status.busy": "2023-01-04T12:21:22.998339Z",
     "iopub.status.idle": "2023-01-04T12:21:32.962432Z",
     "shell.execute_reply": "2023-01-04T12:21:32.961137Z",
     "shell.execute_reply.started": "2023-01-04T12:21:22.998738Z"
    }
   },
   "outputs": [
    {
     "name": "stdout",
     "output_type": "stream",
     "text": [
      "Collecting gdown\n",
      "  Downloading gdown-4.6.0-py3-none-any.whl (14 kB)\n",
      "Requirement already satisfied: requests[socks] in /opt/conda/lib/python3.7/site-packages (from gdown) (2.28.1)\n",
      "Requirement already satisfied: tqdm in /opt/conda/lib/python3.7/site-packages (from gdown) (4.64.0)\n",
      "Requirement already satisfied: six in /opt/conda/lib/python3.7/site-packages (from gdown) (1.15.0)\n",
      "Requirement already satisfied: beautifulsoup4 in /opt/conda/lib/python3.7/site-packages (from gdown) (4.11.1)\n",
      "Requirement already satisfied: filelock in /opt/conda/lib/python3.7/site-packages (from gdown) (3.7.1)\n",
      "Requirement already satisfied: soupsieve>1.2 in /opt/conda/lib/python3.7/site-packages (from beautifulsoup4->gdown) (2.3.1)\n",
      "Requirement already satisfied: charset-normalizer<3,>=2 in /opt/conda/lib/python3.7/site-packages (from requests[socks]->gdown) (2.1.0)\n",
      "Requirement already satisfied: idna<4,>=2.5 in /opt/conda/lib/python3.7/site-packages (from requests[socks]->gdown) (3.3)\n",
      "Requirement already satisfied: certifi>=2017.4.17 in /opt/conda/lib/python3.7/site-packages (from requests[socks]->gdown) (2022.9.24)\n",
      "Requirement already satisfied: urllib3<1.27,>=1.21.1 in /opt/conda/lib/python3.7/site-packages (from requests[socks]->gdown) (1.26.12)\n",
      "Requirement already satisfied: PySocks!=1.5.7,>=1.5.6 in /opt/conda/lib/python3.7/site-packages (from requests[socks]->gdown) (1.7.1)\n",
      "Installing collected packages: gdown\n",
      "Successfully installed gdown-4.6.0\n",
      "\u001b[33mWARNING: Running pip as the 'root' user can result in broken permissions and conflicting behaviour with the system package manager. It is recommended to use a virtual environment instead: https://pip.pypa.io/warnings/venv\u001b[0m\u001b[33m\n",
      "\u001b[0mNote: you may need to restart the kernel to use updated packages.\n"
     ]
    }
   ],
   "source": [
    "pip install gdown"
   ]
  },
  {
   "cell_type": "code",
   "execution_count": 6,
   "metadata": {
    "execution": {
     "iopub.execute_input": "2023-01-04T12:21:40.954733Z",
     "iopub.status.busy": "2023-01-04T12:21:40.954342Z",
     "iopub.status.idle": "2023-01-04T12:21:47.439170Z",
     "shell.execute_reply": "2023-01-04T12:21:47.438034Z",
     "shell.execute_reply.started": "2023-01-04T12:21:40.954698Z"
    }
   },
   "outputs": [],
   "source": [
    "import numpy as np\n",
    "import pandas as pd\n",
    "import os\n",
    "import zipfile\n",
    "\n",
    "import matplotlib.pyplot as plt\n",
    "%matplotlib inline\n",
    "import cv2\n",
    "import nibabel as nib\n",
    "import visualkeras\n",
    "from scipy import ndimage\n",
    "\n",
    "import tensorflow as tf\n",
    "from tensorflow import keras\n",
    "from tensorflow.keras.preprocessing.image import ImageDataGenerator\n",
    "from tensorflow.keras.models import Sequential\n",
    "from tensorflow.keras.layers import Layer\n",
    "from tensorflow.keras.utils import to_categorical\n",
    "from tensorflow.keras.initializers import Constant\n",
    "from tensorflow.keras.optimizers import Adam\n",
    "from tensorflow.keras.callbacks import EarlyStopping\n",
    "from keras.layers import Conv3D,MaxPooling3D,Dense,Flatten,Dropout,BatchNormalization\n",
    "from tensorflow.keras.utils import img_to_array\n",
    "from tensorflow.keras import layers\n",
    "import h5py"
   ]
  },
  {
   "cell_type": "markdown",
   "metadata": {},
   "source": [
    "<a name='2'></a>\n",
    "\n",
    "## 2 - Load, Process, and Split the Data"
   ]
  },
  {
   "cell_type": "code",
   "execution_count": 7,
   "metadata": {
    "execution": {
     "iopub.execute_input": "2023-01-04T12:21:47.441894Z",
     "iopub.status.busy": "2023-01-04T12:21:47.441286Z",
     "iopub.status.idle": "2023-01-04T12:22:32.312389Z",
     "shell.execute_reply": "2023-01-04T12:22:32.311064Z",
     "shell.execute_reply.started": "2023-01-04T12:21:47.441862Z"
    }
   },
   "outputs": [
    {
     "name": "stdout",
     "output_type": "stream",
     "text": [
      "Downloading...\n",
      "From: https://drive.google.com/uc?id=1Gj2wJSOzrVaAqZLuRzOzdc5IGa2UtNvO\n",
      "To: /kaggle/working/data.zip\n",
      "100%|███████████████████████████████████████| 7.44G/7.44G [00:42<00:00, 174MB/s]\n"
     ]
    }
   ],
   "source": [
    "!gdown 1Gj2wJSOzrVaAqZLuRzOzdc5IGa2UtNvO"
   ]
  },
  {
   "cell_type": "code",
   "execution_count": 8,
   "metadata": {
    "execution": {
     "iopub.execute_input": "2023-01-04T12:22:32.315739Z",
     "iopub.status.busy": "2023-01-04T12:22:32.315261Z",
     "iopub.status.idle": "2023-01-04T12:23:30.918796Z",
     "shell.execute_reply": "2023-01-04T12:23:30.917744Z",
     "shell.execute_reply.started": "2023-01-04T12:22:32.315680Z"
    }
   },
   "outputs": [],
   "source": [
    "# Unzip the data\n",
    "z = zipfile.ZipFile('/kaggle/working/data.zip')\n",
    "z.extractall()"
   ]
  },
  {
   "cell_type": "code",
   "execution_count": 9,
   "metadata": {
    "execution": {
     "iopub.execute_input": "2023-01-04T12:23:30.922155Z",
     "iopub.status.busy": "2023-01-04T12:23:30.921511Z",
     "iopub.status.idle": "2023-01-04T12:23:30.927873Z",
     "shell.execute_reply": "2023-01-04T12:23:30.926519Z",
     "shell.execute_reply.started": "2023-01-04T12:23:30.922116Z"
    }
   },
   "outputs": [],
   "source": [
    "# Function for Reading Nifti Files\n",
    "def read_nifti_file(filepath):\n",
    "    # Read file\n",
    "    scan = nib.load(filepath)\n",
    "    # Get raw data\n",
    "    scan = scan.get_fdata()\n",
    "    return scan"
   ]
  },
  {
   "cell_type": "code",
   "execution_count": 10,
   "metadata": {
    "execution": {
     "iopub.execute_input": "2023-01-04T12:23:30.930095Z",
     "iopub.status.busy": "2023-01-04T12:23:30.929378Z",
     "iopub.status.idle": "2023-01-04T12:23:30.943285Z",
     "shell.execute_reply": "2023-01-04T12:23:30.942241Z",
     "shell.execute_reply.started": "2023-01-04T12:23:30.930058Z"
    }
   },
   "outputs": [],
   "source": [
    "# Function for Normalizing the Volume\n",
    "def normalize(volume):\n",
    "    min = -1000\n",
    "    max = 400\n",
    "    volume[volume < min] = min\n",
    "    volume[volume > max] = max\n",
    "    volume = (volume - min) / (max - min)\n",
    "    volume = volume.astype(\"float32\")\n",
    "    return volume"
   ]
  },
  {
   "cell_type": "code",
   "execution_count": 38,
   "metadata": {
    "execution": {
     "iopub.execute_input": "2023-01-04T13:17:27.730723Z",
     "iopub.status.busy": "2023-01-04T13:17:27.730315Z",
     "iopub.status.idle": "2023-01-04T13:17:27.738196Z",
     "shell.execute_reply": "2023-01-04T13:17:27.736655Z",
     "shell.execute_reply.started": "2023-01-04T13:17:27.730691Z"
    }
   },
   "outputs": [],
   "source": [
    "# Function for Resizing the Volume\n",
    "def resize_volume(img):\n",
    "    # Set the desired depth\n",
    "    desired_depth = 64\n",
    "    desired_width = 128\n",
    "    desired_height = 128\n",
    "    # Get current depth\n",
    "    current_depth = img.shape[-1]\n",
    "    current_width = img.shape[0]\n",
    "    current_height = img.shape[1]\n",
    "    # Compute depth factor\n",
    "    depth = current_depth / desired_depth\n",
    "    width = current_width / desired_width\n",
    "    height = current_height / desired_height\n",
    "    depth_factor = 1 / depth\n",
    "    width_factor = 1 / width\n",
    "    height_factor = 1 / height\n",
    "    # Rotate\n",
    "    img = ndimage.rotate(img, 90, reshape=False)\n",
    "    # Resize across z-axis\n",
    "    img = ndimage.zoom(img, (width_factor, height_factor, depth_factor), order=1)\n",
    "    return img"
   ]
  },
  {
   "cell_type": "code",
   "execution_count": 39,
   "metadata": {
    "execution": {
     "iopub.execute_input": "2023-01-04T13:17:29.020458Z",
     "iopub.status.busy": "2023-01-04T13:17:29.020076Z",
     "iopub.status.idle": "2023-01-04T13:17:29.025674Z",
     "shell.execute_reply": "2023-01-04T13:17:29.024745Z",
     "shell.execute_reply.started": "2023-01-04T13:17:29.020427Z"
    }
   },
   "outputs": [],
   "source": [
    "# Function for implementing all the above three functions\n",
    "def process_scan(path):\n",
    "    # Read scan\n",
    "    volume = read_nifti_file(path)\n",
    "    # Normalize\n",
    "    volume = normalize(volume)\n",
    "    # Resize width, height and depth\n",
    "    volume = resize_volume(volume)\n",
    "    return volume"
   ]
  },
  {
   "cell_type": "code",
   "execution_count": 40,
   "metadata": {
    "execution": {
     "iopub.execute_input": "2023-01-04T13:17:29.602977Z",
     "iopub.status.busy": "2023-01-04T13:17:29.602212Z",
     "iopub.status.idle": "2023-01-04T13:17:29.611513Z",
     "shell.execute_reply": "2023-01-04T13:17:29.610378Z",
     "shell.execute_reply.started": "2023-01-04T13:17:29.602936Z"
    }
   },
   "outputs": [
    {
     "name": "stdout",
     "output_type": "stream",
     "text": [
      "50\n",
      "50\n"
     ]
    }
   ],
   "source": [
    "normal_scan_paths = [\n",
    "    os.path.join(os.getcwd(), \"/kaggle/working/content/drive/MyDrive/3d_Data/NON_COVID\", x)\n",
    "    for x in os.listdir(\"/kaggle/working/content/drive/MyDrive/3d_Data/NON_COVID\")\n",
    "]\n",
    "\n",
    "abnormal_scan_paths = [\n",
    "    os.path.join(os.getcwd(), \"/kaggle/working/content/drive/MyDrive/3d_Data/COVID\", x)\n",
    "    for x in os.listdir(\"/kaggle/working/content/drive/MyDrive/3d_Data/COVID\")\n",
    "]\n",
    "print(len(abnormal_scan_paths))\n",
    "print(len(normal_scan_paths))"
   ]
  },
  {
   "cell_type": "code",
   "execution_count": 41,
   "metadata": {
    "execution": {
     "iopub.execute_input": "2023-01-04T13:17:31.825991Z",
     "iopub.status.busy": "2023-01-04T13:17:31.824993Z",
     "iopub.status.idle": "2023-01-04T13:40:17.009328Z",
     "shell.execute_reply": "2023-01-04T13:40:17.008255Z",
     "shell.execute_reply.started": "2023-01-04T13:17:31.825943Z"
    }
   },
   "outputs": [],
   "source": [
    "# Read and process the scans.\n",
    "# Each scan is resized across height, width, and depth and rescaled.\n",
    "abnormal_scans = np.array([process_scan(path) for path in abnormal_scan_paths[:50]])\n",
    "normal_scans = np.array([process_scan(path) for path in normal_scan_paths[:50]])"
   ]
  },
  {
   "cell_type": "code",
   "execution_count": 42,
   "metadata": {
    "execution": {
     "iopub.execute_input": "2023-01-04T13:40:17.014998Z",
     "iopub.status.busy": "2023-01-04T13:40:17.014655Z",
     "iopub.status.idle": "2023-01-04T13:40:17.021307Z",
     "shell.execute_reply": "2023-01-04T13:40:17.020386Z",
     "shell.execute_reply.started": "2023-01-04T13:40:17.014969Z"
    }
   },
   "outputs": [
    {
     "data": {
      "text/plain": [
       "(50, 128, 128, 64)"
      ]
     },
     "execution_count": 42,
     "metadata": {},
     "output_type": "execute_result"
    }
   ],
   "source": [
    "abnormal_scans.shape"
   ]
  },
  {
   "cell_type": "code",
   "execution_count": 43,
   "metadata": {
    "execution": {
     "iopub.execute_input": "2023-01-04T13:40:17.024009Z",
     "iopub.status.busy": "2023-01-04T13:40:17.022473Z",
     "iopub.status.idle": "2023-01-04T13:40:17.042330Z",
     "shell.execute_reply": "2023-01-04T13:40:17.041580Z",
     "shell.execute_reply.started": "2023-01-04T13:40:17.023971Z"
    }
   },
   "outputs": [
    {
     "data": {
      "text/plain": [
       "(50, 128, 128, 64)"
      ]
     },
     "execution_count": 43,
     "metadata": {},
     "output_type": "execute_result"
    }
   ],
   "source": [
    "normal_scans.shape"
   ]
  },
  {
   "cell_type": "code",
   "execution_count": 50,
   "metadata": {
    "execution": {
     "iopub.execute_input": "2023-01-04T13:44:22.272230Z",
     "iopub.status.busy": "2023-01-04T13:44:22.271507Z",
     "iopub.status.idle": "2023-01-04T13:44:22.277710Z",
     "shell.execute_reply": "2023-01-04T13:44:22.276600Z",
     "shell.execute_reply.started": "2023-01-04T13:44:22.272194Z"
    }
   },
   "outputs": [],
   "source": [
    "# For the CT scans having presence of COVID assign 1, for the NONCOVID assign 0.\n",
    "abnormal_labels = np.array([1 for _ in range(len(abnormal_scans))])\n",
    "normal_labels = np.array([0 for _ in range(len(normal_scans))])"
   ]
  },
  {
   "cell_type": "code",
   "execution_count": 51,
   "metadata": {
    "execution": {
     "iopub.execute_input": "2023-01-04T13:44:23.016814Z",
     "iopub.status.busy": "2023-01-04T13:44:23.015645Z",
     "iopub.status.idle": "2023-01-04T13:44:23.198673Z",
     "shell.execute_reply": "2023-01-04T13:44:23.197567Z",
     "shell.execute_reply.started": "2023-01-04T13:44:23.016772Z"
    }
   },
   "outputs": [
    {
     "name": "stdout",
     "output_type": "stream",
     "text": [
      "Number of samples in train and validation are 70 and 30.\n"
     ]
    }
   ],
   "source": [
    "# Split data in the ratio 70-30 for training and validation.\n",
    "x_train = np.concatenate((abnormal_scans[:35], normal_scans[:35]), axis=0)\n",
    "y_train = np.concatenate((abnormal_labels[:35], normal_labels[:35]), axis=0)\n",
    "x_val = np.concatenate((abnormal_scans[35:], normal_scans[35:]), axis=0)\n",
    "y_val = np.concatenate((abnormal_labels[35:], normal_labels[35:]), axis=0)\n",
    "print(\n",
    "    \"Number of samples in train and validation are %d and %d.\"\n",
    "    % (x_train.shape[0], x_val.shape[0])\n",
    ")"
   ]
  },
  {
   "cell_type": "code",
   "execution_count": 52,
   "metadata": {
    "execution": {
     "iopub.execute_input": "2023-01-04T13:44:24.647476Z",
     "iopub.status.busy": "2023-01-04T13:44:24.647084Z",
     "iopub.status.idle": "2023-01-04T13:44:24.877389Z",
     "shell.execute_reply": "2023-01-04T13:44:24.876394Z",
     "shell.execute_reply.started": "2023-01-04T13:44:24.647445Z"
    }
   },
   "outputs": [
    {
     "data": {
      "text/plain": [
       "<matplotlib.image.AxesImage at 0x7f6b48269450>"
      ]
     },
     "execution_count": 52,
     "metadata": {},
     "output_type": "execute_result"
    },
    {
     "data": {
      "image/png": "[encoded data removed]",
      "text/plain": [
       "<Figure size 432x288 with 1 Axes>"
      ]
     },
     "metadata": {
      "needs_background": "light"
     },
     "output_type": "display_data"
    }
   ],
   "source": [
    "plt.imshow(x_train[1, :, :, 13], cmap='gray')"
   ]
  },
  {
   "cell_type": "code",
   "execution_count": 53,
   "metadata": {
    "execution": {
     "iopub.execute_input": "2023-01-04T13:44:25.508097Z",
     "iopub.status.busy": "2023-01-04T13:44:25.507412Z",
     "iopub.status.idle": "2023-01-04T13:44:26.325805Z",
     "shell.execute_reply": "2023-01-04T13:44:26.324784Z",
     "shell.execute_reply.started": "2023-01-04T13:44:25.508061Z"
    }
   },
   "outputs": [],
   "source": [
    "# Data augmentation\n",
    "import random\n",
    "from scipy import ndimage\n",
    "@tf.function\n",
    "\n",
    "def train_preprocessing(volume, label):\n",
    "    \"\"\"Process training data by rotating and adding a channel.\"\"\"\n",
    "    # Rotate volume\n",
    "    #volume = rotate(volume)\n",
    "    volume = tf.expand_dims(volume, axis=3)\n",
    "    return volume, label\n",
    "\n",
    "def validation_preprocessing(volume, label):\n",
    "    \"\"\"Process validation data by only adding a channel.\"\"\"\n",
    "    volume = tf.expand_dims(volume, axis=3)\n",
    "    return volume, label\n",
    "\n",
    "# Define data loaders.\n",
    "train_loader = tf.data.Dataset.from_tensor_slices((x_train, y_train))\n",
    "validation_loader = tf.data.Dataset.from_tensor_slices((x_val, y_val))"
   ]
  },
  {
   "cell_type": "code",
   "execution_count": 54,
   "metadata": {
    "execution": {
     "iopub.execute_input": "2023-01-04T13:44:26.523777Z",
     "iopub.status.busy": "2023-01-04T13:44:26.523430Z",
     "iopub.status.idle": "2023-01-04T13:44:26.557410Z",
     "shell.execute_reply": "2023-01-04T13:44:26.556437Z",
     "shell.execute_reply.started": "2023-01-04T13:44:26.523747Z"
    }
   },
   "outputs": [],
   "source": [
    "batch_size = 2\n",
    "# Augment the on the fly during training.\n",
    "train_dataset = (\n",
    "    train_loader.shuffle(len(x_train))\n",
    "    .map(train_preprocessing)\n",
    "    .batch(batch_size)\n",
    "    .prefetch(2)\n",
    ")\n",
    "# Only rescale.\n",
    "validation_dataset = (\n",
    "    validation_loader.shuffle(len(x_val))\n",
    "    .map(validation_preprocessing)\n",
    "    .batch(batch_size)\n",
    "    .prefetch(2)\n",
    ")"
   ]
  },
  {
   "cell_type": "code",
   "execution_count": 55,
   "metadata": {
    "execution": {
     "iopub.execute_input": "2023-01-04T13:44:27.931311Z",
     "iopub.status.busy": "2023-01-04T13:44:27.930945Z",
     "iopub.status.idle": "2023-01-04T13:44:28.531996Z",
     "shell.execute_reply": "2023-01-04T13:44:28.530832Z",
     "shell.execute_reply.started": "2023-01-04T13:44:27.931279Z"
    }
   },
   "outputs": [
    {
     "name": "stdout",
     "output_type": "stream",
     "text": [
      "Dimension of the CT scan is: (128, 128, 64, 1)\n"
     ]
    },
    {
     "data": {
      "text/plain": [
       "<matplotlib.image.AxesImage at 0x7f6b72084850>"
      ]
     },
     "execution_count": 55,
     "metadata": {},
     "output_type": "execute_result"
    },
    {
     "data": {
      "image/png": "[encoded data removed]",
      "text/plain": [
       "<Figure size 432x288 with 1 Axes>"
      ]
     },
     "metadata": {
      "needs_background": "light"
     },
     "output_type": "display_data"
    }
   ],
   "source": [
    "# Visualize an augmented CT scan\n",
    "\n",
    "import matplotlib.pyplot as plt\n",
    "\n",
    "data = train_dataset.take(1)\n",
    "images, labels = list(data)[0]\n",
    "images = images.numpy()\n",
    "image = images[0]\n",
    "print(\"Dimension of the CT scan is:\", image.shape)\n",
    "plt.imshow(np.squeeze(image[:, :, 12]), cmap=\"gray\")"
   ]
  },
  {
   "cell_type": "markdown",
   "metadata": {},
   "source": [
    "<a name='3'></a>\n",
    "\n",
    "## 3 - Model Details\n",
    "\n",
    "The feature extraction block follows a similar pattern to VGGNET two conv layers followed by a maxpool however the kernel size for each conv layer follows my registration number in reverse order. 363654 to 456363 so for first layer the kernel size will be 4+1= 5x5 then 5*5 for second layer. Sigmoid activation function is used in last dense layer for binary classification. \n",
    "The network has 6 convolutional layers, 3 pooling layers, 7 normalization layers, 5 dropout layers, and two dense layers."
   ]
  },
  {
   "cell_type": "code",
   "execution_count": 56,
   "metadata": {
    "execution": {
     "iopub.execute_input": "2023-01-04T13:44:31.167567Z",
     "iopub.status.busy": "2023-01-04T13:44:31.167135Z",
     "iopub.status.idle": "2023-01-04T13:44:31.180898Z",
     "shell.execute_reply": "2023-01-04T13:44:31.179918Z",
     "shell.execute_reply.started": "2023-01-04T13:44:31.167507Z"
    }
   },
   "outputs": [],
   "source": [
    "# define cnn model\n",
    "def define_model():\n",
    "  model = Sequential()\n",
    "  model.add(Conv3D(32, (5, 5, 5), activation='relu', kernel_initializer='he_uniform', padding='same', input_shape=(128, 128, 64, 1)))\n",
    "  model.add(BatchNormalization())\n",
    "  model.add(Conv3D(32, (5, 5, 5), activation='relu', kernel_initializer='he_uniform', padding='same'))\n",
    "  model.add(BatchNormalization())\n",
    "  model.add(MaxPooling3D((2, 2, 2)))\n",
    "  model.add(Dropout(0.2))\n",
    "\n",
    "  model.add(Conv3D(64, (7, 7, 7), activation='relu', kernel_initializer='he_uniform', padding='same'))\n",
    "  model.add(BatchNormalization())\n",
    "  model.add(Conv3D(64, (3, 3, 3), activation='relu', kernel_initializer='he_uniform', padding='same'))\n",
    "  model.add(BatchNormalization())\n",
    "  model.add(MaxPooling3D((2, 2, 2)))\n",
    "  model.add(Dropout(0.2))\n",
    "\n",
    "  model.add(Conv3D(128, (7, 7, 7), activation='relu', kernel_initializer='he_uniform', padding='same'))\n",
    "  model.add(BatchNormalization())\n",
    "  model.add(Conv3D(128, (3, 3, 3), activation='relu', kernel_initializer='he_uniform', padding='same'))\n",
    "  model.add(BatchNormalization())\n",
    "  model.add(MaxPooling3D((2, 2, 2)))\n",
    "  model.add(Dropout(0.2))\n",
    "\n",
    "  model.add(Flatten())\n",
    "  model.add(Dense(256, activation='relu', kernel_initializer='he_uniform'))\n",
    "  model.add(BatchNormalization())\n",
    "  model.add(Dropout(0.2))\n",
    "  model.add(Dense(512, activation='relu', kernel_initializer='he_uniform'))\n",
    "  model.add(Dropout(0.2))\n",
    "  model.add(Dense(1, activation='sigmoid',\n",
    "                           kernel_regularizer=tf.keras.regularizers.l2(0.0001)))\n",
    "  model.compile(\n",
    "    optimizer=tf.keras.optimizers.Adam(\n",
    "        learning_rate=0.001,\n",
    "        beta_1=0.9,\n",
    "        beta_2=0.999,\n",
    "        name=\"Adam\",\n",
    "    ),\n",
    "   loss='binary_crossentropy',\n",
    "   metrics=['accuracy']\n",
    "    )\n",
    "  return model"
   ]
  },
  {
   "cell_type": "markdown",
   "metadata": {},
   "source": [
    "<a name='3-1'></a>\n",
    "### 3.1 - Model Summary and Visualization"
   ]
  },
  {
   "cell_type": "code",
   "execution_count": 57,
   "metadata": {
    "execution": {
     "iopub.execute_input": "2023-01-04T13:44:35.465608Z",
     "iopub.status.busy": "2023-01-04T13:44:35.465185Z",
     "iopub.status.idle": "2023-01-04T13:44:35.477148Z",
     "shell.execute_reply": "2023-01-04T13:44:35.475611Z",
     "shell.execute_reply.started": "2023-01-04T13:44:35.465573Z"
    }
   },
   "outputs": [
    {
     "name": "stdout",
     "output_type": "stream",
     "text": [
      "Model: \"sequential_1\"\n",
      "_________________________________________________________________\n",
      "Layer (type)                 Output Shape              Param #   \n",
      "=================================================================\n",
      "conv3d_6 (Conv3D)            (None, 128, 128, 64, 32)  4032      \n",
      "_________________________________________________________________\n",
      "batch_normalization (BatchNo (None, 128, 128, 64, 32)  128       \n",
      "_________________________________________________________________\n",
      "conv3d_7 (Conv3D)            (None, 128, 128, 64, 32)  128032    \n",
      "_________________________________________________________________\n",
      "batch_normalization_1 (Batch (None, 128, 128, 64, 32)  128       \n",
      "_________________________________________________________________\n",
      "max_pooling3d (MaxPooling3D) (None, 64, 64, 32, 32)    0         \n",
      "_________________________________________________________________\n",
      "dropout_2 (Dropout)          (None, 64, 64, 32, 32)    0         \n",
      "_________________________________________________________________\n",
      "conv3d_8 (Conv3D)            (None, 64, 64, 32, 64)    702528    \n",
      "_________________________________________________________________\n",
      "batch_normalization_2 (Batch (None, 64, 64, 32, 64)    256       \n",
      "_________________________________________________________________\n",
      "conv3d_9 (Conv3D)            (None, 64, 64, 32, 64)    110656    \n",
      "_________________________________________________________________\n",
      "batch_normalization_3 (Batch (None, 64, 64, 32, 64)    256       \n",
      "_________________________________________________________________\n",
      "max_pooling3d_1 (MaxPooling3 (None, 32, 32, 16, 64)    0         \n",
      "_________________________________________________________________\n",
      "dropout_3 (Dropout)          (None, 32, 32, 16, 64)    0         \n",
      "_________________________________________________________________\n",
      "conv3d_10 (Conv3D)           (None, 32, 32, 16, 128)   2809984   \n",
      "_________________________________________________________________\n",
      "batch_normalization_4 (Batch (None, 32, 32, 16, 128)   512       \n",
      "_________________________________________________________________\n",
      "conv3d_11 (Conv3D)           (None, 32, 32, 16, 128)   442496    \n",
      "_________________________________________________________________\n",
      "batch_normalization_5 (Batch (None, 32, 32, 16, 128)   512       \n",
      "_________________________________________________________________\n",
      "max_pooling3d_2 (MaxPooling3 (None, 16, 16, 8, 128)    0         \n",
      "_________________________________________________________________\n",
      "dropout_4 (Dropout)          (None, 16, 16, 8, 128)    0         \n",
      "_________________________________________________________________\n",
      "flatten_1 (Flatten)          (None, 262144)            0         \n",
      "_________________________________________________________________\n",
      "dense_2 (Dense)              (None, 256)               67109120  \n",
      "_________________________________________________________________\n",
      "batch_normalization_6 (Batch (None, 256)               1024      \n",
      "_________________________________________________________________\n",
      "dropout_5 (Dropout)          (None, 256)               0         \n",
      "_________________________________________________________________\n",
      "dense_3 (Dense)              (None, 512)               131584    \n",
      "_________________________________________________________________\n",
      "dropout_6 (Dropout)          (None, 512)               0         \n",
      "_________________________________________________________________\n",
      "dense_4 (Dense)              (None, 1)                 513       \n",
      "=================================================================\n",
      "Total params: 71,441,761\n",
      "Trainable params: 71,440,353\n",
      "Non-trainable params: 1,408\n",
      "_________________________________________________________________\n"
     ]
    }
   ],
   "source": [
    "model.summary()"
   ]
  },
  {
   "cell_type": "code",
   "execution_count": 58,
   "metadata": {
    "execution": {
     "iopub.execute_input": "2023-01-04T13:44:47.526311Z",
     "iopub.status.busy": "2023-01-04T13:44:47.525937Z",
     "iopub.status.idle": "2023-01-04T13:44:47.776835Z",
     "shell.execute_reply": "2023-01-04T13:44:47.775703Z",
     "shell.execute_reply.started": "2023-01-04T13:44:47.526277Z"
    }
   },
   "outputs": [
    {
     "data": {
      "image/png": "[encoded data removed]",
      "text/plain": [
       "<PIL.Image.Image image mode=RGBA size=4020x719>"
      ]
     },
     "execution_count": 58,
     "metadata": {},
     "output_type": "execute_result"
    }
   ],
   "source": [
    "visualkeras.layered_view(model, legend=True)"
   ]
  },
  {
   "cell_type": "markdown",
   "metadata": {},
   "source": [
    "<a name='4'></a>\n",
    "## 4 - Model Training"
   ]
  },
  {
   "cell_type": "code",
   "execution_count": 59,
   "metadata": {
    "execution": {
     "iopub.execute_input": "2023-01-04T13:44:54.250914Z",
     "iopub.status.busy": "2023-01-04T13:44:54.250508Z",
     "iopub.status.idle": "2023-01-04T14:25:26.049898Z",
     "shell.execute_reply": "2023-01-04T14:25:26.048852Z",
     "shell.execute_reply.started": "2023-01-04T13:44:54.250880Z"
    }
   },
   "outputs": [
    {
     "name": "stdout",
     "output_type": "stream",
     "text": [
      "Epoch 1/30\n",
      "35/35 [==============================] - 66s 2s/step - loss: 0.9220 - accuracy: 0.5714 - val_loss: 28.6420 - val_accuracy: 0.5333\n",
      "Epoch 2/30\n",
      "35/35 [==============================] - 54s 2s/step - loss: 0.6188 - accuracy: 0.6857 - val_loss: 109.2188 - val_accuracy: 0.5000\n",
      "Epoch 3/30\n",
      "35/35 [==============================] - 54s 2s/step - loss: 0.5732 - accuracy: 0.7286 - val_loss: 1.6590 - val_accuracy: 0.7667\n",
      "Epoch 4/30\n",
      "35/35 [==============================] - 54s 2s/step - loss: 0.6909 - accuracy: 0.6857 - val_loss: 6.8947 - val_accuracy: 0.5333\n",
      "Epoch 5/30\n",
      "35/35 [==============================] - 54s 2s/step - loss: 0.8069 - accuracy: 0.6429 - val_loss: 8.1244 - val_accuracy: 0.3667\n",
      "Epoch 6/30\n",
      "35/35 [==============================] - 54s 2s/step - loss: 0.8812 - accuracy: 0.6000 - val_loss: 17.2035 - val_accuracy: 0.5000\n",
      "Epoch 7/30\n",
      "35/35 [==============================] - 53s 2s/step - loss: 0.7363 - accuracy: 0.7000 - val_loss: 2.7192 - val_accuracy: 0.7333\n",
      "Epoch 8/30\n",
      "35/35 [==============================] - 54s 2s/step - loss: 0.9481 - accuracy: 0.6000 - val_loss: 71.6755 - val_accuracy: 0.5000\n",
      "Epoch 9/30\n",
      "35/35 [==============================] - 54s 2s/step - loss: 0.5496 - accuracy: 0.7571 - val_loss: 26.2258 - val_accuracy: 0.5000\n",
      "Epoch 10/30\n",
      "35/35 [==============================] - 54s 2s/step - loss: 0.8865 - accuracy: 0.6000 - val_loss: 0.6819 - val_accuracy: 0.7000\n",
      "Epoch 11/30\n",
      "35/35 [==============================] - 54s 2s/step - loss: 0.7120 - accuracy: 0.6429 - val_loss: 40.7418 - val_accuracy: 0.5000\n",
      "Epoch 12/30\n",
      "35/35 [==============================] - 54s 2s/step - loss: 0.7668 - accuracy: 0.6571 - val_loss: 3.4780 - val_accuracy: 0.5333\n",
      "Epoch 13/30\n",
      "35/35 [==============================] - 54s 2s/step - loss: 0.5527 - accuracy: 0.7429 - val_loss: 0.4187 - val_accuracy: 0.8333\n",
      "Epoch 14/30\n",
      "35/35 [==============================] - 54s 2s/step - loss: 0.6763 - accuracy: 0.7286 - val_loss: 0.3328 - val_accuracy: 0.9333\n",
      "Epoch 15/30\n",
      "35/35 [==============================] - 54s 2s/step - loss: 0.6698 - accuracy: 0.6857 - val_loss: 1.2744 - val_accuracy: 0.7000\n",
      "Epoch 16/30\n",
      "35/35 [==============================] - 54s 2s/step - loss: 0.6738 - accuracy: 0.6714 - val_loss: 1.0651 - val_accuracy: 0.5667\n",
      "Epoch 17/30\n",
      "35/35 [==============================] - 54s 2s/step - loss: 0.6938 - accuracy: 0.6714 - val_loss: 1.0840 - val_accuracy: 0.6000\n",
      "Epoch 18/30\n",
      "35/35 [==============================] - 54s 2s/step - loss: 0.6172 - accuracy: 0.7000 - val_loss: 0.1610 - val_accuracy: 0.9667\n",
      "Epoch 19/30\n",
      "35/35 [==============================] - 54s 2s/step - loss: 0.7205 - accuracy: 0.6857 - val_loss: 0.9151 - val_accuracy: 0.6333\n",
      "Epoch 20/30\n",
      "35/35 [==============================] - 54s 2s/step - loss: 1.0193 - accuracy: 0.4571 - val_loss: 1.5742 - val_accuracy: 0.7333\n",
      "Epoch 21/30\n",
      "35/35 [==============================] - 54s 2s/step - loss: 0.6376 - accuracy: 0.6714 - val_loss: 3.5020 - val_accuracy: 0.5667\n",
      "Epoch 22/30\n",
      "35/35 [==============================] - 54s 2s/step - loss: 0.8101 - accuracy: 0.6000 - val_loss: 1.9255 - val_accuracy: 0.7333\n",
      "Epoch 23/30\n",
      "35/35 [==============================] - 54s 2s/step - loss: 0.8138 - accuracy: 0.6286 - val_loss: 1.3035 - val_accuracy: 0.6000\n",
      "Epoch 24/30\n",
      "35/35 [==============================] - 54s 2s/step - loss: 0.7590 - accuracy: 0.6143 - val_loss: 0.9481 - val_accuracy: 0.6333\n",
      "Epoch 25/30\n",
      "35/35 [==============================] - 54s 2s/step - loss: 0.5475 - accuracy: 0.7429 - val_loss: 0.6268 - val_accuracy: 0.6667\n",
      "Epoch 26/30\n",
      "35/35 [==============================] - 54s 2s/step - loss: 0.6619 - accuracy: 0.6429 - val_loss: 0.3456 - val_accuracy: 0.8333\n",
      "Epoch 27/30\n",
      "35/35 [==============================] - 54s 2s/step - loss: 0.6070 - accuracy: 0.6857 - val_loss: 1.2661 - val_accuracy: 0.6333\n",
      "Epoch 28/30\n",
      "35/35 [==============================] - 54s 2s/step - loss: 0.4162 - accuracy: 0.7857 - val_loss: 0.5559 - val_accuracy: 0.7333\n",
      "Epoch 29/30\n",
      "35/35 [==============================] - 54s 2s/step - loss: 0.4871 - accuracy: 0.7857 - val_loss: 0.7259 - val_accuracy: 0.6000\n",
      "Epoch 30/30\n",
      "35/35 [==============================] - 54s 2s/step - loss: 0.6265 - accuracy: 0.6714 - val_loss: 0.2689 - val_accuracy: 0.8667\n"
     ]
    }
   ],
   "source": [
    "model.compile(Adam(0.001),'binary_crossentropy',['accuracy'])\n",
    "history = model.fit(  train_dataset,\n",
    "            steps_per_epoch=len(x_train)//batch_size,\n",
    "            epochs=30,\n",
    "            validation_data=validation_dataset,\n",
    "            #callbacks = [checkpoint, callback],\n",
    "            validation_steps=len(x_val)//batch_size )"
   ]
  },
  {
   "cell_type": "markdown",
   "metadata": {
    "execution": {
     "iopub.execute_input": "2023-01-04T10:21:58.742308Z",
     "iopub.status.busy": "2023-01-04T10:21:58.741412Z",
     "iopub.status.idle": "2023-01-04T10:21:58.749179Z",
     "shell.execute_reply": "2023-01-04T10:21:58.747521Z",
     "shell.execute_reply.started": "2023-01-04T10:21:58.742263Z"
    }
   },
   "source": [
    "<a name='4-1'></a>\n",
    "### 4.1 - Plotting Model Accuracies per epoch"
   ]
  },
  {
   "cell_type": "code",
   "execution_count": 60,
   "metadata": {
    "execution": {
     "iopub.execute_input": "2023-01-04T14:31:42.618660Z",
     "iopub.status.busy": "2023-01-04T14:31:42.618267Z",
     "iopub.status.idle": "2023-01-04T14:31:42.882874Z",
     "shell.execute_reply": "2023-01-04T14:31:42.881826Z",
     "shell.execute_reply.started": "2023-01-04T14:31:42.618629Z"
    }
   },
   "outputs": [
    {
     "data": {
      "image/png": "[encoded data removed]",
      "text/plain": [
       "<Figure size 432x288 with 2 Axes>"
      ]
     },
     "metadata": {
      "needs_background": "light"
     },
     "output_type": "display_data"
    }
   ],
   "source": [
    "# plot diagnostic learning curves\n",
    "def summarize_diagnostics(history):\n",
    "\t# plot loss\n",
    "\tplt.subplot(131)\n",
    "\tplt.title('Cross Entropy Loss')\n",
    "\tplt.plot(history.history['loss'], color='blue', label='train')\n",
    "\tplt.plot(history.history['val_loss'], color='orange', label='test')\n",
    "\t# plot accuracy\n",
    "\tplt.subplot(133)\n",
    "\tplt.title('Classification Accuracy')\n",
    "\tplt.plot(history.history['accuracy'], color='blue', label='train')\n",
    "\tplt.plot(history.history['val_accuracy'], color='orange', label='test')\n",
    "\tplt.show()\n",
    " \n",
    "summarize_diagnostics(history)"
   ]
  },
  {
   "cell_type": "markdown",
   "metadata": {},
   "source": [
    "<a name='4-2'></a>\n",
    "### 4.2 - Model Testing"
   ]
  },
  {
   "cell_type": "code",
   "execution_count": 61,
   "metadata": {
    "execution": {
     "iopub.execute_input": "2023-01-04T14:31:53.674932Z",
     "iopub.status.busy": "2023-01-04T14:31:53.674573Z",
     "iopub.status.idle": "2023-01-04T14:32:20.614173Z",
     "shell.execute_reply": "2023-01-04T14:32:20.613208Z",
     "shell.execute_reply.started": "2023-01-04T14:31:53.674901Z"
    }
   },
   "outputs": [
    {
     "name": "stdout",
     "output_type": "stream",
     "text": [
      "35/35 [==============================] - 13s 355ms/step - loss: 0.2629 - accuracy: 0.8857\n",
      "training accuracy: 88.57%\n",
      "15/15 [==============================] - 6s 359ms/step - loss: 0.2689 - accuracy: 0.8667\n",
      "testing accuracy: 86.67%\n"
     ]
    }
   ],
   "source": [
    "_, acc = model.evaluate(train_dataset)\n",
    "print('training accuracy:', str(round(acc*100, 2))+'%')\n",
    "_, acc = model.evaluate(validation_dataset)\n",
    "print('testing accuracy:', str(round(acc*100, 2))+'%')"
   ]
  },
  {
   "cell_type": "markdown",
   "metadata": {},
   "source": [
    "<a name='4-3'></a>\n",
    "### 4.3 - Model Evaluation Metrics"
   ]
  },
  {
   "cell_type": "code",
   "execution_count": 91,
   "metadata": {
    "execution": {
     "iopub.execute_input": "2023-01-04T15:05:27.007708Z",
     "iopub.status.busy": "2023-01-04T15:05:27.007303Z",
     "iopub.status.idle": "2023-01-04T15:05:32.642218Z",
     "shell.execute_reply": "2023-01-04T15:05:32.641162Z",
     "shell.execute_reply.started": "2023-01-04T15:05:27.007675Z"
    }
   },
   "outputs": [],
   "source": [
    "y_pred = model.predict(validation_dataset)\n",
    "y_pred = np.where(y_pred > 0.5, 1, 0)\n",
    "y_pred = list(y_pred)"
   ]
  },
  {
   "cell_type": "code",
   "execution_count": 92,
   "metadata": {
    "execution": {
     "iopub.execute_input": "2023-01-04T15:06:00.839712Z",
     "iopub.status.busy": "2023-01-04T15:06:00.839223Z",
     "iopub.status.idle": "2023-01-04T15:06:00.861951Z",
     "shell.execute_reply": "2023-01-04T15:06:00.861031Z",
     "shell.execute_reply.started": "2023-01-04T15:06:00.839668Z"
    }
   },
   "outputs": [
    {
     "name": "stdout",
     "output_type": "stream",
     "text": [
      "              precision    recall  f1-score   support\n",
      "\n",
      "           0       0.47      0.47      0.47        15\n",
      "           1       0.47      0.47      0.47        15\n",
      "\n",
      "    accuracy                           0.47        30\n",
      "   macro avg       0.47      0.47      0.47        30\n",
      "weighted avg       0.47      0.47      0.47        30\n",
      "\n"
     ]
    }
   ],
   "source": [
    "from sklearn.metrics import classification_report, confusion_matrix\n",
    "import seaborn as sns\n",
    "\n",
    "cf_report = classification_report(y_val,y_pred)\n",
    "cm = confusion_matrix(y_val,y_pred)\n",
    "\n",
    "print(cf_report)"
   ]
  },
  {
   "cell_type": "code",
   "execution_count": 93,
   "metadata": {
    "execution": {
     "iopub.execute_input": "2023-01-04T15:06:08.927709Z",
     "iopub.status.busy": "2023-01-04T15:06:08.927296Z",
     "iopub.status.idle": "2023-01-04T15:06:09.278941Z",
     "shell.execute_reply": "2023-01-04T15:06:09.277821Z",
     "shell.execute_reply.started": "2023-01-04T15:06:08.927673Z"
    }
   },
   "outputs": [
    {
     "data": {
      "text/plain": [
       "Text(0.5, 51.0, 'Predicted')"
      ]
     },
     "execution_count": 93,
     "metadata": {},
     "output_type": "execute_result"
    },
    {
     "data": {
      "image/png": "[encoded data removed]",
      "text/plain": [
       "<Figure size 720x576 with 2 Axes>"
      ]
     },
     "metadata": {
      "needs_background": "light"
     },
     "output_type": "display_data"
    }
   ],
   "source": [
    "plt.figure(figsize=(10,8))\n",
    "ax = sns.heatmap(cm, cmap='YlGnBu', annot=True, square=True)\n",
    "\n",
    "ax.set_ylabel('Actual', fontsize=40)\n",
    "ax.set_xlabel('Predicted', fontsize=40)"
   ]
  },
  {
   "cell_type": "markdown",
   "metadata": {},
   "source": [
    "<a name='4-4'></a>\n",
    "### 4.4 - Random image testing"
   ]
  },
  {
   "cell_type": "markdown",
   "metadata": {},
   "source": [
    "### Sample 1"
   ]
  },
  {
   "cell_type": "code",
   "execution_count": 107,
   "metadata": {
    "execution": {
     "iopub.execute_input": "2023-01-04T15:18:24.343252Z",
     "iopub.status.busy": "2023-01-04T15:18:24.342545Z",
     "iopub.status.idle": "2023-01-04T15:18:50.065471Z",
     "shell.execute_reply": "2023-01-04T15:18:50.064353Z",
     "shell.execute_reply.started": "2023-01-04T15:18:24.343217Z"
    }
   },
   "outputs": [],
   "source": [
    "i_path = \"/kaggle/working/content/drive/MyDrive/3d_Data/COVID/Subject (1036).nii.gz\"\n",
    "testing_scans = np.array([process_scan(i_path)])"
   ]
  },
  {
   "cell_type": "code",
   "execution_count": 115,
   "metadata": {
    "execution": {
     "iopub.execute_input": "2023-01-04T15:23:48.472235Z",
     "iopub.status.busy": "2023-01-04T15:23:48.471537Z",
     "iopub.status.idle": "2023-01-04T15:23:50.286227Z",
     "shell.execute_reply": "2023-01-04T15:23:50.285094Z",
     "shell.execute_reply.started": "2023-01-04T15:23:48.472201Z"
    }
   },
   "outputs": [
    {
     "name": "stdout",
     "output_type": "stream",
     "text": [
      "This model is 4.55 percent confident that CT scan is Non-COVID\n",
      "This model is 95.45 percent confident that CT scan is COVID\n"
     ]
    }
   ],
   "source": [
    "prediction = model.predict(np.expand_dims(testing_scans,axis=-1))\n",
    "scores = [1 - prediction[0], prediction[0]]\n",
    "class_names = [\"Non-COVID\", \"COVID\"]\n",
    "for score, name in zip(scores, class_names):\n",
    "    print(\n",
    "        \"This model is %.2f percent confident that CT scan is %s\"\n",
    "        % ((100 * score), name)\n",
    "    )"
   ]
  },
  {
   "cell_type": "markdown",
   "metadata": {},
   "source": [
    "### Sample 2"
   ]
  },
  {
   "cell_type": "code",
   "execution_count": 117,
   "metadata": {
    "execution": {
     "iopub.execute_input": "2023-01-04T15:50:15.593964Z",
     "iopub.status.busy": "2023-01-04T15:50:15.593007Z",
     "iopub.status.idle": "2023-01-04T15:50:22.028828Z",
     "shell.execute_reply": "2023-01-04T15:50:22.027426Z",
     "shell.execute_reply.started": "2023-01-04T15:50:15.593913Z"
    }
   },
   "outputs": [
    {
     "name": "stdout",
     "output_type": "stream",
     "text": [
      "Downloading...\n",
      "From: https://drive.google.com/uc?id=1o2-YImFZZba9rq-pD_aHdm9HHO_hVhc2\n",
      "To: /kaggle/working/Subject (1088).nii.gz\n",
      "100%|████████████████████████████████████████| 136M/136M [00:03<00:00, 34.7MB/s]\n"
     ]
    }
   ],
   "source": [
    "!gdown 1o2-YImFZZba9rq-pD_aHdm9HHO_hVhc2"
   ]
  },
  {
   "cell_type": "code",
   "execution_count": 118,
   "metadata": {
    "execution": {
     "iopub.execute_input": "2023-01-04T15:51:20.012900Z",
     "iopub.status.busy": "2023-01-04T15:51:20.012473Z",
     "iopub.status.idle": "2023-01-04T15:51:45.782247Z",
     "shell.execute_reply": "2023-01-04T15:51:45.781011Z",
     "shell.execute_reply.started": "2023-01-04T15:51:20.012867Z"
    }
   },
   "outputs": [
    {
     "name": "stdout",
     "output_type": "stream",
     "text": [
      "This model is 50.52 percent confident that CT scan is Non-COVID\n",
      "This model is 49.48 percent confident that CT scan is COVID\n"
     ]
    }
   ],
   "source": [
    "i_path = \"/kaggle/working/Subject (1088).nii.gz\"\n",
    "testing_scan2 = np.array([process_scan(i_path)])\n",
    "\n",
    "prediction = model.predict(np.expand_dims(testing_scan2,axis=-1))\n",
    "scores = [1 - prediction[0], prediction[0]]\n",
    "class_names = [\"Non-COVID\", \"COVID\"]\n",
    "for score, name in zip(scores, class_names):\n",
    "    print(\n",
    "        \"This model is %.2f percent confident that CT scan is %s\"\n",
    "        % ((100 * score), name)\n",
    "    )"
   ]
  }
 ],
 "metadata": {
  "kernelspec": {
   "display_name": "Python 3 (ipykernel)",
   "language": "python",
   "name": "python3"
  },
  "language_info": {
   "codemirror_mode": {
    "name": "ipython",
    "version": 3
   },
   "file_extension": ".py",
   "mimetype": "text/x-python",
   "name": "python",
   "nbconvert_exporter": "python",
   "pygments_lexer": "ipython3",
   "version": "3.9.7"
  }
 },
 "nbformat": 4,
 "nbformat_minor": 4
}
